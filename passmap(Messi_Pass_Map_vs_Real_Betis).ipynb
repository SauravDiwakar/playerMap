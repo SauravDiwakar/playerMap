{
  "nbformat": 4,
  "nbformat_minor": 0,
  "metadata": {
    "colab": {
      "name": "passmap(Messi Pass Map vs Real Betis).ipynb",
      "provenance": [],
      "collapsed_sections": [],
      "authorship_tag": "ABX9TyNucxrq11toH6jcpN1HFIvQ",
      "include_colab_link": true
    },
    "kernelspec": {
      "name": "python3",
      "display_name": "Python 3"
    },
    "language_info": {
      "name": "python"
    }
  },
  "cells": [
    {
      "cell_type": "markdown",
      "metadata": {
        "id": "view-in-github",
        "colab_type": "text"
      },
      "source": [
        "<a href=\"https://colab.research.google.com/github/SauravDiwakar/playerMap/blob/main/passmap(Messi_Pass_Map_vs_Real_Betis).ipynb\" target=\"_parent\"><img src=\"https://colab.research.google.com/assets/colab-badge.svg\" alt=\"Open In Colab\"/></a>"
      ]
    },
    {
      "cell_type": "code",
      "metadata": {
        "id": "jvX4uwrE9Qcl",
        "colab": {
          "base_uri": "https://localhost:8080/"
        },
        "outputId": "8bac55eb-6936-4f49-a6cd-0e19fdad4edd"
      },
      "source": [
        "import pandas as pd \n",
        "import io \n",
        "import matplotlib.pyplot as plt\n",
        "from mplsoccer.pitch import Pitch\n",
        "import seaborn as sns\n",
        "\n",
        "#read the data\n",
        "df = pd.read_csv(io.BytesIO(uploaded['messibetis.csv']))\n",
        "print(df)"
      ],
      "execution_count": 54,
      "outputs": [
        {
          "output_type": "stream",
          "text": [
            "   player  minute  second    x    y  type       outcome  endX  endY\n",
            "0   messi      45       0   50   50  Pass    Successful    40    43\n",
            "1   messi      45      25   63   48  Pass    Successful    75    83\n",
            "2   messi      46       4   74   58  Pass    Successful    71    65\n",
            "3   messi      46       7   76   68  Pass    Successful    95    78\n",
            "4   messi      46      55  100    1  Pass  Unsuccessful    96    38\n",
            "5   messi      47      42   73   25  Pass    Successful    70    54\n",
            "6   messi      49      47   75   43  Pass  Unsuccessful    82    38\n",
            "7   messi      50      10   79   31  Pass    Successful    87    24\n",
            "8   messi      50      17   82   52  Pass    Successful    93    68\n",
            "9   messi      50      24   98   62  Pass  Unsuccessful    98    61\n",
            "10  messi      55      22   30   12  Pass    Successful    22    24\n",
            "11  messi      56      24   38   42  Pass    Successful    37    51\n",
            "12  messi      56      36   53   44  Pass    Successful    43    62\n",
            "13  messi      56      43   61   63  Pass    Successful    64    63\n",
            "14  messi      57       2   96   33  Pass    Successful    91    34\n",
            "15  messi      62      25   46   45  Pass    Successful    38    43\n",
            "16  messi      62      31   49   67  Pass    Successful    61    96\n",
            "17  messi      63      36   64   22  Pass    Successful    63    10\n",
            "18  messi      63      40   74    7  Pass    Successful    66     9\n",
            "19  messi      63      42   70    6  Pass    Successful    63     9\n",
            "20  messi      63      43   67    4  Pass    Successful    62     9\n",
            "21  messi      63      48   69    4  Pass    Successful    62     9\n",
            "22  messi      66      27   65   36  Pass    Successful    71    51\n",
            "23  messi      67      40   73   58  Pass  Unsuccessful    87    41\n",
            "24  messi      68      19   66   67  Pass    Successful    60    69\n",
            "25  messi      69      25   71   79  Pass    Successful    63    72\n",
            "26  messi      71      29   64   30  Pass    Successful    69    60\n",
            "27  messi      71      46   81   57  Pass    Successful    96    71\n",
            "28  messi      73      44   50   50  Pass    Successful    47    52\n",
            "29  messi      76      11   67   43  Pass    Successful    75    41\n",
            "30  messi      76      25   77   41  Pass  Unsuccessful    84    37\n",
            "31  messi      77      59  100  100  Pass    Successful    92    96\n",
            "32  messi      78       3   88   96  Pass    Successful    69    82\n",
            "33  messi      78       9   83   96  Pass    Successful    81    83\n",
            "34  messi      78      58   64   51  Pass    Successful    69    83\n",
            "35  messi      79       5   67   67  Pass    Successful    66    54\n",
            "36  messi      79      19   70   56  Pass    Successful    85    87\n",
            "37  messi      79      31   76   84  Pass    Successful    65    73\n",
            "38  messi      80      26  100    1  Pass    Successful    92     5\n",
            "39  messi      80      30   82    3  Pass    Successful    76    17\n",
            "40  messi      81      14   59    4  Pass    Successful    69     4\n",
            "41  messi      81      20   80    6  Pass    Successful    81    19\n",
            "42  messi      83      14   71   40  Pass  Unsuccessful    88    55\n",
            "43  messi      87      24   58   42  Pass    Successful    66    74\n",
            "44  messi      88      22  100    1  Pass    Successful    73    26\n",
            "45  messi      90      18   71   25  Pass  Unsuccessful    91    52\n",
            "46  messi      91      18   66   31  Pass    Successful    76    20\n",
            "47  messi      91      46   74   38  Pass  Unsuccessful    76    36\n",
            "48  messi      94       7   57   37  Pass  Unsuccessful    90    54\n"
          ],
          "name": "stdout"
        }
      ]
    },
    {
      "cell_type": "code",
      "metadata": {
        "colab": {
          "base_uri": "https://localhost:8080/"
        },
        "id": "H-cOD5rhCkUy",
        "outputId": "ccf3b3aa-6d42-4a84-feca-23255a0c43a6"
      },
      "source": [
        "#convert the data to match the mplsoccer statsbomb pitch\n",
        "df['x'] = df['x']*1.2\n",
        "df['y'] = df['y']*.8\n",
        "df['endX'] = df['endX']*1.2\n",
        "df['endY'] = df['endY']*.8\n",
        "\n",
        "print(df)"
      ],
      "execution_count": 11,
      "outputs": [
        {
          "output_type": "stream",
          "text": [
            "   player  minute  second      x     y  type       outcome   endX  endY\n",
            "0   messi      45       0   60.0  40.0  Pass    Successful   48.0  34.4\n",
            "1   messi      45      25   75.6  38.4  Pass    Successful   90.0  66.4\n",
            "2   messi      46       4   88.8  46.4  Pass    Successful   85.2  52.0\n",
            "3   messi      46       7   91.2  54.4  Pass    Successful  114.0  62.4\n",
            "4   messi      46      55  120.0   0.8  Pass  Unsuccessful  115.2  30.4\n",
            "5   messi      47      42   87.6  20.0  Pass    Successful   84.0  43.2\n",
            "6   messi      49      47   90.0  34.4  Pass  Unsuccessful   98.4  30.4\n",
            "7   messi      50      10   94.8  24.8  Pass    Successful  104.4  19.2\n",
            "8   messi      50      17   98.4  41.6  Pass    Successful  111.6  54.4\n",
            "9   messi      50      24  117.6  49.6  Pass  Unsuccessful  117.6  48.8\n",
            "10  messi      55      22   36.0   9.6  Pass    Successful   26.4  19.2\n",
            "11  messi      56      24   45.6  33.6  Pass    Successful   44.4  40.8\n",
            "12  messi      56      36   63.6  35.2  Pass    Successful   51.6  49.6\n",
            "13  messi      56      43   73.2  50.4  Pass    Successful   76.8  50.4\n",
            "14  messi      57       2  115.2  26.4  Pass    Successful  109.2  27.2\n",
            "15  messi      62      25   55.2  36.0  Pass    Successful   45.6  34.4\n",
            "16  messi      62      31   58.8  53.6  Pass    Successful   73.2  76.8\n",
            "17  messi      63      36   76.8  17.6  Pass    Successful   75.6   8.0\n",
            "18  messi      63      40   88.8   5.6  Pass    Successful   79.2   7.2\n",
            "19  messi      63      42   84.0   4.8  Pass    Successful   75.6   7.2\n",
            "20  messi      63      43   80.4   3.2  Pass    Successful   74.4   7.2\n",
            "21  messi      63      48   82.8   3.2  Pass    Successful   74.4   7.2\n",
            "22  messi      66      27   78.0  28.8  Pass    Successful   85.2  40.8\n",
            "23  messi      67      40   87.6  46.4  Pass  Unsuccessful  104.4  32.8\n",
            "24  messi      68      19   79.2  53.6  Pass    Successful   72.0  55.2\n",
            "25  messi      69      25   85.2  63.2  Pass    Successful   75.6  57.6\n",
            "26  messi      71      29   76.8  24.0  Pass    Successful   82.8  48.0\n",
            "27  messi      71      46   97.2  45.6  Pass    Successful  115.2  56.8\n",
            "28  messi      73      44   60.0  40.0  Pass    Successful   56.4  41.6\n",
            "29  messi      76      11   80.4  34.4  Pass    Successful   90.0  32.8\n",
            "30  messi      76      25   92.4  32.8  Pass  Unsuccessful  100.8  29.6\n",
            "31  messi      77      59  120.0  80.0  Pass    Successful  110.4  76.8\n",
            "32  messi      78       3  105.6  76.8  Pass    Successful   82.8  65.6\n",
            "33  messi      78       9   99.6  76.8  Pass    Successful   97.2  66.4\n",
            "34  messi      78      58   76.8  40.8  Pass    Successful   82.8  66.4\n",
            "35  messi      79       5   80.4  53.6  Pass    Successful   79.2  43.2\n",
            "36  messi      79      19   84.0  44.8  Pass    Successful  102.0  69.6\n",
            "37  messi      79      31   91.2  67.2  Pass    Successful   78.0  58.4\n",
            "38  messi      80      26  120.0   0.8  Pass    Successful  110.4   4.0\n",
            "39  messi      80      30   98.4   2.4  Pass    Successful   91.2  13.6\n",
            "40  messi      81      14   70.8   3.2  Pass    Successful   82.8   3.2\n",
            "41  messi      81      20   96.0   4.8  Pass    Successful   97.2  15.2\n",
            "42  messi      83      14   85.2  32.0  Pass  Unsuccessful  105.6  44.0\n",
            "43  messi      87      24   69.6  33.6  Pass    Successful   79.2  59.2\n",
            "44  messi      88      22  120.0   0.8  Pass    Successful   87.6  20.8\n",
            "45  messi      90      18   85.2  20.0  Pass  Unsuccessful  109.2  41.6\n",
            "46  messi      91      18   79.2  24.8  Pass    Successful   91.2  16.0\n",
            "47  messi      91      46   88.8  30.4  Pass  Unsuccessful   91.2  28.8\n",
            "48  messi      94       7   68.4  29.6  Pass  Unsuccessful  108.0  43.2\n"
          ],
          "name": "stdout"
        }
      ]
    },
    {
      "cell_type": "code",
      "metadata": {
        "colab": {
          "base_uri": "https://localhost:8080/",
          "height": 398
        },
        "id": "XDrVaW0NEDTG",
        "outputId": "8e1dc1d6-f430-442e-c1f7-3460a0f504a6"
      },
      "source": [
        "fig, ax = plt.subplots(figsize=(13.5,8)) #sets the graphical area\n",
        "fig.set_facecolor('#22312b') #colors the outer-area \n",
        "ax.patch.set_facecolor('#22312b') #colors the inner-area "
      ],
      "execution_count": 25,
      "outputs": [
        {
          "output_type": "display_data",
          "data": {
            "image/png": "[encoded data removed]",
            "text/plain": [
              "<Figure size 972x576 with 1 Axes>"
            ]
          },
          "metadata": {
            "tags": []
          }
        }
      ]
    },
    {
      "cell_type": "code",
      "metadata": {
        "colab": {
          "base_uri": "https://localhost:8080/",
          "height": 398
        },
        "id": "cCwA-vo_Iu5-",
        "outputId": "87387740-c2c1-415b-9d1a-b9d90719d348"
      },
      "source": [
        "fig, ax = plt.subplots(figsize=(13.5,8)) #sets the graphical area\n",
        "fig.set_facecolor('black') #colors the outer-area \n",
        "ax.patch.set_facecolor('white') #colors the inner-area \n",
        "\n",
        "#pitch creation\n",
        "pitch = Pitch(pitch_type='statsbomb', orientation='horizontal',\n",
        "              pitch_color='white', line_color='black', figsize=(16,11),\n",
        "              constrained_layout=True, tight_layout=False)\n"
      ],
      "execution_count": 57,
      "outputs": [
        {
          "output_type": "display_data",
          "data": {
            "image/png": "[encoded data removed]",
            "text/plain": [
              "<Figure size 972x576 with 1 Axes>"
            ]
          },
          "metadata": {
            "tags": []
          }
        }
      ]
    },
    {
      "cell_type": "code",
      "metadata": {
        "colab": {
          "base_uri": "https://localhost:8080/",
          "height": 466
        },
        "id": "OrvKkHfLKLT2",
        "outputId": "8b8354c3-19ce-4421-b5e0-4e603a0f1c05"
      },
      "source": [
        "fig, ax = plt.subplots(figsize=(13.5,8)) #sets the graphical area\n",
        "fig.set_facecolor('black') #colors the outer-area \n",
        "ax.patch.set_facecolor('white') #colors the inner-area \n",
        "\n",
        "#pitch creation\n",
        "pitch = Pitch(pitch_type='statsbomb', orientation='horizontal',\n",
        "              pitch_color='white', line_color='black', figsize=(16,11),\n",
        "              constrained_layout=True, tight_layout=False)\n",
        "\n",
        "#draw the pitch on the ax figure as well as invert the axis for this \n",
        "# specific pitch\n",
        "pitch.draw(ax=ax)\n",
        "plt.gca().invert_yaxis() #this is because as per the docs the y axis starts \n",
        "                         # starts from top left corner. so inversion occurs"
      ],
      "execution_count": 51,
      "outputs": [
        {
          "output_type": "display_data",
          "data": {
            "image/png": "[encoded data removed]",
            "text/plain": [
              "<Figure size 972x576 with 1 Axes>"
            ]
          },
          "metadata": {
            "tags": []
          }
        }
      ]
    },
    {
      "cell_type": "code",
      "metadata": {
        "colab": {
          "base_uri": "https://localhost:8080/",
          "height": 504
        },
        "id": "f2Yy2lLhLzZN",
        "outputId": "07cdd74e-029f-482c-9310-0a3456f2d9c2"
      },
      "source": [
        "import pandas as pd \n",
        "import io \n",
        "import matplotlib.pyplot as plt\n",
        "from mplsoccer.pitch import Pitch\n",
        "import seaborn as sns\n",
        "\n",
        "#read the data\n",
        "df = pd.read_csv(io.BytesIO(uploaded['messibetis.csv']))\n",
        "\n",
        "#convert the data to match the mplsoccer statsbomb pitch\n",
        "df['x'] = df['x']*1.2\n",
        "df['y'] = df['y']*.8\n",
        "df['endX'] = df['endX']*1.2\n",
        "df['endY'] = df['endY']*.8\n",
        "\n",
        "fig, ax = plt.subplots(figsize=(13.5,8)) #sets the graphical area\n",
        "fig.set_facecolor('black') #colors the outer-area \n",
        "ax.patch.set_facecolor('white') #colors the inner-area \n",
        "\n",
        "#pitch creation\n",
        "pitch = Pitch(pitch_type='statsbomb', orientation='horizontal',\n",
        "              pitch_color='white', line_color='black', figsize=(16,11),\n",
        "              constrained_layout=True, tight_layout=False)\n",
        "\n",
        "#draw the pitch on the ax figure as well as invert the axis for this \n",
        "# specific pitch\n",
        "pitch.draw(ax=ax)\n",
        "plt.gca().invert_yaxis() #this is because as per the docs the y axis starts \n",
        "                         # from top left corner. so inversion occurs\n",
        "\n",
        "#using loop to plot each pass\n",
        "for x in range(len(df['x'])):\n",
        "  if df['outcome'][x] == 'Successful':\n",
        "    plt.plot((df['x'][x], df['endX'][x]), (df['y'][x], df['endY'][x]), \n",
        "             color='green')\n",
        "    # to mark messi's position\n",
        "    plt.scatter(df['x'][x], df['y'][x], color='green')\n",
        "\n",
        "  if df['outcome'][x] == 'Unsuccessful':\n",
        "    plt.plot((df['x'][x], df['endX'][x]), (df['y'][x], df['endY'][x]), \n",
        "                 color='red')\n",
        "    # to mark messi's position\n",
        "    plt.scatter(df['x'][x], df['y'][x], color='red')\n",
        "  \n",
        "plt.title('Messi Pass Map vs Real Betis',color='white',size=20)"
      ],
      "execution_count": 59,
      "outputs": [
        {
          "output_type": "execute_result",
          "data": {
            "text/plain": [
              "Text(0.5, 1.0, 'Messi Pass Map vs Real Betis')"
            ]
          },
          "metadata": {
            "tags": []
          },
          "execution_count": 59
        },
        {
          "output_type": "display_data",
          "data": {
            "image/png": "[encoded data removed]",
            "text/plain": [
              "<Figure size 972x576 with 1 Axes>"
            ]
          },
          "metadata": {
            "tags": []
          }
        }
      ]
    }
  ]
}